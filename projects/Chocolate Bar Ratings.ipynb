{
 "cells": [
  {
   "cell_type": "markdown",
   "source": [
    "# Chocolate Bar Ratings\n",
    "\n",
    "## Context\n",
    "This project's aim is to explore and visualize the data provided by the dataset [Chocolate Bar Ratings](https://www.kaggle.com/datasets/rtatman/chocolate-bar-ratings/data) using different libraries. As stated in the description, this dataset contains expert ratings of over 1,700 individual chocolate bars, along with information on their regional origin, percentage of cocoa, the variety of chocolate bean used and where the beans were grown. For further context, please check the original dataset on Kaggle. As an initial data analysis project, I intend to update this notebook later with more data analysis techniques.\n",
    "*As I use plotly for some graphs, I had to convert the output from dynamic to a static png in order to show the image on github.*\n",
    "\n"
   ],
   "metadata": {
    "collapsed": false
   },
   "id": "776f51a784a74c75"
  },
  {
   "cell_type": "markdown",
   "source": [
    "## Setup, loading and cleaning\n",
    "\n",
    "# In this step, we'll be importing the necessary libraries, performing an initial check on the dataset and organizing/cleaning the dataframe."
   ],
   "metadata": {
    "collapsed": false
   },
   "id": "39169f3213af3041"
  },
  {
   "cell_type": "code",
   "outputs": [
    {
     "ename": "ModuleNotFoundError",
     "evalue": "No module named 'matplotlib'",
     "output_type": "error",
     "traceback": [
      "\u001B[1;31m---------------------------------------------------------------------------\u001B[0m",
      "\u001B[1;31mModuleNotFoundError\u001B[0m                       Traceback (most recent call last)",
      "Cell \u001B[1;32mIn[1], line 1\u001B[0m\n\u001B[1;32m----> 1\u001B[0m \u001B[38;5;28;01mimport\u001B[39;00m \u001B[38;5;21;01mmatplotlib\u001B[39;00m\u001B[38;5;21;01m.\u001B[39;00m\u001B[38;5;21;01mpyplot\u001B[39;00m \u001B[38;5;28;01mas\u001B[39;00m \u001B[38;5;21;01mplt\u001B[39;00m\n\u001B[0;32m      2\u001B[0m \u001B[38;5;28;01mimport\u001B[39;00m \u001B[38;5;21;01mnumpy\u001B[39;00m \u001B[38;5;28;01mas\u001B[39;00m \u001B[38;5;21;01mnp\u001B[39;00m\n\u001B[0;32m      3\u001B[0m \u001B[38;5;28;01mimport\u001B[39;00m \u001B[38;5;21;01mpandas\u001B[39;00m \u001B[38;5;28;01mas\u001B[39;00m \u001B[38;5;21;01mpd\u001B[39;00m\n",
      "\u001B[1;31mModuleNotFoundError\u001B[0m: No module named 'matplotlib'"
     ]
    }
   ],
   "source": [
    "import matplotlib.pyplot as plt\n",
    "import numpy as np\n",
    "import pandas as pd\n",
    "import seaborn as sns\n",
    "import plotly.express as px\n",
    "import plotly.graph_objects as go\n",
    "from plotly.subplots import make_subplots\n",
    "import warnings\n",
    "\n",
    "# Data Loading\n",
    "pd.set_option('display.max_columns', None)\n",
    "df = pd.read_csv('C:/Users/danco/OneDrive/Desktop/Programação/Portfolio/flavors_of_cacao.csv')\n",
    "\n",
    "df.head()\n",
    "df.describe()\n",
    "warnings.filterwarnings(\"ignore\", message=\"^When grouping with a \")\n",
    "\n",
    "# Correct the column names and copy the dataframe\n",
    "\n",
    "df.columns = df.columns.str.strip().str.replace('\\n', '_').str.replace(' ', '_')\n",
    "df.rename(columns={\"Company\\xa0_(Maker-if_known)\": \"Company\"}, inplace=True)\n",
    "df.info()\n",
    "ds = df.copy()\n",
    "\n",
    "ds['Bean_Type'] = ds['Bean_Type'].replace(u'\\xa0', np.nan)\n",
    "ds['Broad_Bean_Origin'] = ds['Broad_Bean_Origin'].replace(u'\\xa0', np.nan)\n",
    "\n",
    "# Check for duplicates and missing values\n",
    "\n",
    "ds.duplicated()\n",
    "\n",
    "def misvalue_percent(df):\n",
    "\n",
    "    mis_val = df.isnull().sum()\n",
    "\n",
    "    mis_val_percent = 100 * mis_val / len(df)\n",
    "\n",
    "    mis_val_dtype = df.dtypes\n",
    "\n",
    "    mis_val_table = pd.concat([mis_val, mis_val_percent, mis_val_dtype], axis=1)\n",
    "\n",
    "    mis_val_table_ren_columns = mis_val_table.rename(\n",
    "        columns={0: 'Missing values', 1: '% of Missing values', 2: 'Dtype'})\n",
    "\n",
    "    mis_val_table_ren_columns = mis_val_table_ren_columns[mis_val_table_ren_columns.iloc[:, 0] != 0].sort_values(\n",
    "        '% of Missing values', ascending=False).round(2)\n",
    "\n",
    "    print(\"The dataset has \" + str(df.shape[1]) + \" columns.\\n\"\n",
    "                                                  \"Found: \" + str(\n",
    "        mis_val_table_ren_columns.shape[0]) + \" columns with missing values.\")\n",
    "\n",
    "    if mis_val_table_ren_columns.shape[0] == 0:\n",
    "        return\n",
    "\n",
    "    return mis_val_table_ren_columns\n",
    "\n",
    "print(misvalue_percent(ds))\n",
    "\n",
    "ds['Bean_Type'] = ds['Bean_Type'].replace(np.nan, \"Missing\")\n",
    "ds['Broad_Bean_Origin'] = ds['Broad_Bean_Origin'].replace(np.nan, \"Missing\")\n",
    "\n",
    "# Verifying the highest rating values\n",
    "\n",
    "best_rating = ds.loc[ds['Rating'] >= 4.5].sort_values(by='Broad_Bean_Origin', ascending=True)\n",
    "value_counts = best_rating['Broad_Bean_Origin'].value_counts()\n",
    "\n",
    "# Correcting all the different possible column values\n",
    "\n",
    "columns_to_correct = ['Broad_Bean_Origin', 'Bean_Type', 'Company_Location']\n",
    "\n",
    "corrections_inverted = {\n",
    "    'Trinidad': 'Trinidad and Tobago', 'Tobago': 'Trinidad and Tobago', 'Trinidad-Tobago': 'Trinidad and Tobago',\n",
    "    'Domincan Republic': 'Dominican Republic', 'Dominican Rep.': 'Dominican Republic', 'Dom. Rep.': 'Dominican Republic', 'Domin. Rep': 'Dominican Republic', 'D.R': 'Dominican Republic', 'DR': 'Dominican Republic',    'Mex': 'Mexico', 'Sao Tome': 'Sao Tome and Principe','Sao Tome & Principe':'Sao Tome and Principe','St. Lucia': 'Santa Lucia', 'Carribean': 'Caribbean','Brasil':'Brazil','C. Am.': 'Central America', 'Ven.': 'Venezuela', 'Cost Rica': 'Costa Rica', 'Ecuad.': 'Ecuador', 'Mad.': 'Madagascar', 'Mad': 'Madagascar', 'PNG': 'Papua New Guinea', 'S. America': 'South America', 'Guat.': 'Guatemala', 'Peru(SMartin' 'Pangoa' 'nacional)': 'Peru', 'Ghana & Madagascar': 'Ghana, Madagascar', 'Madagascar & Ecuador': 'Madagascar, Ecuador', 'Venezuela/ Ghana': 'Venezuela, Ghana','Carribean(DR/Jam/Tri)':'Caribbean', 'Niacragua':'Nicaragua', \"Eucador\":\"Ecuador\", \"Dom. Rep\":\"Dominican Republic\", \"D.R.\": \"Dominican Republic\", \"Haw.\":\"Hawaii\", \"Gre.\":\"Grenada\", \"Nic.\":\"Nicaragua\", \"Ecu.\":\"Ecuador\", \"Central and S. America\":\"Central and South America\",\"Principe\":\"Sao Tome and Principe\", \"nacional)\":\"Peru\", \"Pangoa\":\"Peru\", \"Peru(SMartin\":\"Peru\", \"Ven\":\"Venezuela\", \"Venez\":\"Venezuela\"\n",
    "}\n",
    "\n",
    "for x in columns_to_correct:\n",
    "    \n",
    "    ds[x] = ds[x].replace(corrections_inverted)\n",
    "    ds[x] = ds[x].str.split(',')\n",
    "    ds = ds.explode(x).reset_index(drop=True)\n",
    "    ds[x] = ds[x].str.strip()\n",
    "    ds[x] = ds[x].replace(corrections_inverted)\n",
    "\n",
    "# Checking for changes after exploding the dataframe\n",
    "\n",
    "ds[ds['Specific_Bean_Origin_or_Bar_Name'] == 'Bayou Blend']\n",
    "ds.drop_duplicates(inplace=True)\n",
    "\n",
    "# Creating a new group of continents based on company location\n",
    "\n",
    "for i, x in enumerate(ds['Company_Location']):\n",
    "    if x in [\"France\", \"Switzerland\", \"Netherlands\", \"Spain\", \"Italy\", \"U.K.\", \"Wales\", \"Belgium\", \"Germany\", \"Russia\", \"Amsterdam\", \"Scotland\", \"Portugal\", \"Denmark\", \"Finland\", \"Sweden\", \"Poland\", \"Austria\", \"Czech Republic\", \"Lithuania\", \"Iceland\", \"Ireland\", \"Hungary\"]:\n",
    "        ds.at[i, \"Continent\"] = \"Europe\"\n",
    "    elif x in [\"U.S.A.\", \"Canada\", \"Brazil\", \"Peru\", \"Ecuador\", \"Mexico\", \"Puerto Rico\", \"Venezuela\", \"Colombia\", \"Costa Rica\", \"Martinique\", \"Argentina\", \"Guatemala\", \"Bolivia\", \"Santa Lucia\", \"Grenada\", \"Dominican Republic\", \"Honduras\", \"Nicaragua\", \"Chile\", \"Suriname\"]:\n",
    "        ds.at[i, \"Continent\"] = \"Americas\"\n",
    "    elif x in [\"Australia\", \"Fiji\", \"New Zealand\"]:\n",
    "        ds.at[i, \"Continent\"] = \"Oceania\"\n",
    "    elif x in [\"Japan\", \"South Korea\", \"Singapore\", \"Vietnam\", \"Israel\", \"India\", \"Philippines\"]:\n",
    "        ds.at[i, \"Continent\"] = \"Asia\"\n",
    "    elif x in [\"Sao Tome and Principe\", \"South Africa\", \"Madagascar\", \"Ghana\"]:\n",
    "        ds.at[i, \"Continent\"] = \"Africa\"\n",
    "\n",
    "# Correcting data type after exploding\n",
    "\n",
    "ds['REF'].isna().sum()\n",
    "ds['Review_Date'].isna().sum()\n",
    "ds.dropna(subset=['REF'], inplace=True)\n",
    "ds.dropna(subset=['Review_Date'], inplace=True)\n",
    "ds['REF'] = ds['REF'].astype(int)\n",
    "ds['Review_Date'] = ds['Review_Date'].astype(int)\n",
    "\n",
    "# Correcting spelling mistake inherent to database entry\n",
    "\n",
    "n = 'Shattell'\n",
    "ds.at[1542,'Company'] = n\n",
    "\n",
    "# Creating a new group based on the range of Cocoa Percentage\n",
    "\n",
    "ds['Cocoa_Percent'] = ds['Cocoa_Percent'].str.rstrip('%').astype(float)\n",
    "bins = [0, 50, 70, 90, 100]\n",
    "labels = ['(0, 50]', '(50, 70]', '(70, 90]', '(90, 100]']\n",
    "ds['Cocoa_Percent_Range'] = pd.cut(ds['Cocoa_Percent'], bins=bins, labels=labels, include_lowest=True)\n",
    "max_rating = ds['Rating'].max()\n",
    "ds\n"
   ],
   "metadata": {
    "ExecuteTime": {
     "end_time": "2024-03-14T14:07:39.109598Z",
     "start_time": "2024-03-14T14:07:39.001438Z"
    }
   },
   "id": "c44fadb9",
   "execution_count": 1
  },
  {
   "cell_type": "markdown",
   "source": [
    "After an initial verification, we can observe the considerable amount of missing values for Bean Types (49.47%), hence I'll not be using this column in our visualization and analysis.\n",
    "2 new columns were created, one of them containing the range of cocoa percentages based on the minimum percent value and the other one, the continents where the companies are located."
   ],
   "metadata": {
    "collapsed": false
   },
   "id": "22e0f7b92d669d70"
  },
  {
   "cell_type": "markdown",
   "source": [
    "## Data Visualization\n",
    "\n",
    "# Now we'll perform a simple data exploration and visualization and check some questions.\n",
    "\n",
    "* Where are the best cocoa beans grown?\n",
    "* Which countries produce the highest rated bars?\n",
    "* Which companies produce the highest rated bars?\n",
    "* Is the cocoa percentage relevant to its rating?\n"
   ],
   "metadata": {
    "collapsed": false
   },
   "id": "b1455a5c4739dddf"
  },
  {
   "cell_type": "code",
   "outputs": [],
   "source": [
    "# Evaluating the distribution of ratings based on cocoa percent range\n",
    "\n",
    "sns.barplot(data=ds, x='Cocoa_Percent_Range', y='Rating', order=labels, errorbar='sd', capsize=0.1)\n",
    "sns.stripplot(data=ds, x='Cocoa_Percent_Range', y='Rating', order=labels, color='black', alpha=0.5,jitter=0.2)\n",
    "plt.xlabel('Cocoa Percent Range')\n",
    "plt.ylabel('Rating')\n",
    "plt.title('Average Rating by Cocoa Percent Range')\n",
    "plt.ylim(0, max_rating)\n",
    "plt.show()"
   ],
   "metadata": {
    "collapsed": false,
    "ExecuteTime": {
     "end_time": "2024-03-14T14:07:39.114582Z",
     "start_time": "2024-03-14T14:07:39.113585Z"
    }
   },
   "id": "11c83f8239796e45",
   "execution_count": null
  },
  {
   "cell_type": "markdown",
   "source": [
    "We can observe a majority of the entries are in the middle bins from 51 to 90, and with that in mind, the rating seems to be higher within that range."
   ],
   "metadata": {
    "collapsed": false
   },
   "id": "7e4f191d81e24feb"
  },
  {
   "cell_type": "markdown",
   "source": [
    "## World distribution\n",
    "\n",
    "Now we'll use the [choropleth map](https://plotly.com/python/choropleth-maps/) from plotly to visualize some averages in a world map."
   ],
   "metadata": {
    "collapsed": false
   },
   "id": "d5d55d01fe2b69c7"
  },
  {
   "cell_type": "code",
   "outputs": [],
   "source": [
    "# Visualizing the distribution of averages using the world map\n",
    "\n",
    "avg_rating_country = ds.groupby('Company_Location')['Rating'].mean().reset_index()\n",
    "\n",
    "fig = px.choropleth(avg_rating_country,\n",
    "                    locationmode=\"country names\", \n",
    "                    locations='Company_Location',\n",
    "                    color=\"Rating\",\n",
    "                    hover_name=\"Company_Location\",\n",
    "                    color_continuous_scale=px.colors.sequential.Plasma,\n",
    "                    labels={'Rating': 'Average Rating'},\n",
    "                    title='Average Rating by Country')\n",
    "\n",
    "avg_rating_BBO = ds.groupby('Broad_Bean_Origin')['Rating'].mean().reset_index()\n",
    "                    \n",
    "fig2 = px.choropleth(avg_rating_BBO,                    \n",
    "                    locationmode=\"country names\", \n",
    "                    locations='Broad_Bean_Origin',\n",
    "                    color=\"Rating\",\n",
    "                    hover_name=\"Broad_Bean_Origin\",\n",
    "                    color_continuous_scale=px.colors.sequential.speed,\n",
    "                    labels={'Rating': 'Average Rating'},\n",
    "                    title='Average Rating by Broad Bean Origin')\n",
    "\n",
    "avg_cocoa_country = ds.groupby('Company_Location')['Cocoa_Percent'].mean().reset_index()\n",
    "lowest_percentage = ds.loc[ds['Cocoa_Percent'] == 42]\n",
    "\n",
    "fig3 = px.choropleth(avg_cocoa_country,\n",
    "                    locationmode=\"country names\", \n",
    "                    locations='Company_Location',\n",
    "                    color=\"Cocoa_Percent\",\n",
    "                    hover_name=\"Cocoa_Percent\",\n",
    "                    color_continuous_scale=px.colors.sequential.Rainbow,\n",
    "                    labels={'Cocoa_Percent': 'Average Cocoa Percentage'},\n",
    "                    title=f'Average Cocoa Percentage by Country <br> The country with the lowest percentage is {lowest_percentage.iloc[0][\"Company_Location\"]}')\n",
    "\n",
    "avg_rating_cocoap = ds.groupby('Broad_Bean_Origin')['Cocoa_Percent'].mean().reset_index()\n",
    "\n",
    "fig4 = px.choropleth(avg_rating_cocoap,\n",
    "                    locationmode=\"country names\", \n",
    "                    locations='Broad_Bean_Origin',\n",
    "                    color=\"Cocoa_Percent\",\n",
    "                    hover_name=\"Broad_Bean_Origin\",\n",
    "                    color_continuous_scale=px.colors.sequential.Viridis,\n",
    "                    labels={'Cocoa_Percent': 'Average Cocoa Percentage'},\n",
    "                    title='Average Cocoa Percentage by Bean Origin')\n",
    "\n",
    "\n",
    "fig.show('png')\n",
    "fig2.show('png')\n",
    "fig3.show('png')\n",
    "fig4.show('png')"
   ],
   "metadata": {
    "collapsed": false,
    "ExecuteTime": {
     "start_time": "2024-03-14T14:07:39.116577Z"
    }
   },
   "id": "6931898baffab048",
   "execution_count": null
  },
  {
   "cell_type": "markdown",
   "source": [
    "We can see a higher rating average in american countries (company location) and based on the origin of the beans, there is a higher average in some countries from South America, Africa, Southeast Asia and Oceania.\n",
    "In regards to the Cocoa Percentage, there is apparently a higher average in countries located in Central Europe, the Americas, and more specifically in São Tomé and Príncipe and New Zealand. While according to bean origin, mainly some countries in Africa, India and Southeast Asia, possess the highest averages in cocoa percentage."
   ],
   "metadata": {
    "collapsed": false
   },
   "id": "c7da3cdd0d684f4"
  },
  {
   "cell_type": "code",
   "outputs": [],
   "source": [
    "# Checking the distribution of chocolate bars per Continent\n",
    "\n",
    "fig5 = px.histogram(ds, x=\"Continent\", color='Continent')\n",
    "fig5.update_yaxes(title_text='Number of chocolates')\n",
    "fig5.show('png')"
   ],
   "metadata": {
    "collapsed": false,
    "ExecuteTime": {
     "start_time": "2024-03-14T14:07:39.120565Z"
    }
   },
   "id": "86da277156db0fa1",
   "execution_count": null
  },
  {
   "cell_type": "markdown",
   "source": [
    "With the new column group of continents, the americas have a higher production number of chocolate bars, followed by European countries."
   ],
   "metadata": {
    "collapsed": false
   },
   "id": "1a6498a23a9357c0"
  },
  {
   "cell_type": "code",
   "outputs": [],
   "source": [
    "# Assessing the distribution of ratings\n",
    "\n",
    "plt.figure(figsize=(10, 6))\n",
    "sns.histplot(data=ds, x='Rating', bins=20, kde=True)\n",
    "plt.xlabel('Rating')\n",
    "plt.ylabel('Frequency')\n",
    "plt.title('Distribution of Ratings for Entries')\n",
    "plt.show()"
   ],
   "metadata": {
    "collapsed": false,
    "ExecuteTime": {
     "start_time": "2024-03-14T14:07:39.122561Z"
    }
   },
   "id": "b15193850c97497f",
   "execution_count": null
  },
  {
   "cell_type": "markdown",
   "source": [
    "The general assessment for the distribution of ratings shows us that most entries rank between 3.0 to 3.75."
   ],
   "metadata": {
    "collapsed": false
   },
   "id": "f197d200fe8a813e"
  },
  {
   "cell_type": "code",
   "outputs": [],
   "source": [
    "# Plotting the top 10 companies with the higher averages and their number of bars released\n",
    "\n",
    "avg_rating_per_company = ds.groupby('Company')['Rating'].mean()\n",
    "top_10 = avg_rating_per_company.nlargest(10).index\n",
    "filtered = ds[ds['Company'].isin(top_10)]\n",
    "\n",
    "fig6 = px.violin(filtered,\n",
    "              x='Company', \n",
    "              y='Rating', \n",
    "              color='Company',\n",
    "              title='Top 10 Companies with the highest average', \n",
    "              points='all')\n",
    "\n",
    "fig6.show('png')"
   ],
   "metadata": {
    "collapsed": false
   },
   "id": "a71e4db972c6f1e3",
   "execution_count": null
  },
  {
   "cell_type": "code",
   "outputs": [],
   "source": [
    "# Plotting the average rating against other variables\n",
    "\n",
    "company_counts = ds.groupby('Company').agg({'Rating': 'mean', 'Specific_Bean_Origin_or_Bar_Name': 'count'}).reset_index()\n",
    "\n",
    "fig7 = px.scatter(company_counts, x='Rating',\n",
    "                  y='Specific_Bean_Origin_or_Bar_Name',\n",
    "                  color='Company',\n",
    "                  title='Average Rating for each Company and number of bars produced',\n",
    "                  labels = {'Specific_Bean_Origin_or_Bar_Name':'Specific Bean Origin or Bar Name'}\n",
    "                  )\n",
    "\n",
    "fig7.show('png')\n",
    "\n",
    "country_counts = ds.groupby('Company_Location').agg({'Rating': 'mean', 'Specific_Bean_Origin_or_Bar_Name': 'count'}).reset_index()\n",
    "\n",
    "fig8 = px.scatter(country_counts, x='Rating',\n",
    "                  y='Specific_Bean_Origin_or_Bar_Name',\n",
    "                  color='Company_Location',\n",
    "                  title='Average Rating for each Country and number of bars produced',\n",
    "                  labels = {'Specific_Bean_Origin_or_Bar_Name':'Specific Bean Origin or Bar Name','Company_Location':'Company Location'}\n",
    "                  )\n",
    "\n",
    "fig8.show('png')\n",
    "\n",
    "continent_counts = ds.groupby('Continent').agg({'Rating': 'mean', 'Specific_Bean_Origin_or_Bar_Name': 'count','Cocoa_Percent':'mean'}).reset_index()\n",
    "\n",
    "fig9 = px.scatter(continent_counts, x=\"Rating\",\n",
    "                  y=\"Cocoa_Percent\",\n",
    "                  color='Continent',\n",
    "\t              size=\"Specific_Bean_Origin_or_Bar_Name\",\n",
    "                  hover_name=\"Continent\", size_max=60,\n",
    "                  title='Continents average rating by Cocoa Percent average',\n",
    "                  labels={'Specific_Bean_Origin_or_Bar_Name':'Specific Bean Origin or Bar Name','Cocoa_Percent':'Cocoa Percent'}\n",
    "                  )\n",
    "\n",
    "fig9.show('png')"
   ],
   "metadata": {
    "collapsed": false,
    "ExecuteTime": {
     "end_time": "2024-03-14T14:07:39.136524Z",
     "start_time": "2024-03-14T14:07:39.134529Z"
    }
   },
   "id": "4496502623c815b",
   "execution_count": null
  },
  {
   "cell_type": "code",
   "outputs": [],
   "source": [
    "# Now we check the variables against the review date columns (years)\n",
    "\n",
    "review_counts = ds['Review_Date'].value_counts().reset_index()\n",
    "unique_years = ds['Review_Date'].unique()\n",
    "sns.set_color_codes(\"pastel\")\n",
    "plt.figure()\n",
    "sns.barplot(data=review_counts, x=\"Review_Date\", y=\"count\", color=\"b\")\n",
    "plt.xlabel(\"Year\")\n",
    "plt.ylabel(\"Review Count\")\n",
    "plt.title(\"Review Count over the Years\")\n",
    "\n",
    "plt.grid(axis='y', linestyle='--', alpha=0.7)  \n",
    "plt.show()\n",
    "\n",
    "avg_rating_date = ds.groupby('Review_Date').agg({'Rating':'mean'}).reset_index()\n",
    "\n",
    "sns.set_color_codes(\"bright\")\n",
    "plt.figure()\n",
    "sns.lineplot(data=avg_rating_date, x=\"Review_Date\", y=\"Rating\", color=\"g\")\n",
    "plt.xlabel(\"Year\")\n",
    "plt.ylabel(\"Rating\")\n",
    "plt.xticks(rotation=45, ticks=unique_years)\n",
    "plt.title(\"Average rating over the years\")\n",
    "\n",
    "plt.grid(axis='y', linestyle='--', alpha=0.7) \n",
    "plt.grid(axis='x', linestyle='--', alpha=0.7) \n",
    "plt.show()\n",
    "\n",
    "avg_rating_per_country_per_year = ds.groupby(['Review_Date', 'Broad_Bean_Origin'])['Rating'].mean().reset_index()\n",
    "\n",
    "fig10 = px.scatter(avg_rating_per_country_per_year, x='Review_Date',\n",
    "                 y='Rating',\n",
    "                 color='Broad_Bean_Origin',\n",
    "                 title='Average Rating per Country Over Time', \n",
    "                 labels={'Review_Date': 'Year', 'Rating': 'Average Rating', 'Broad_Bean_Origin': 'Bean Origin'},\n",
    "                 width=1700, height=400)\n",
    "fig10.update_layout(xaxis=dict(tickmode='array', tickvals=unique_years))\n",
    "fig10.add_annotation(x='2013', y='4',\n",
    "                   text='Guatemala, average rating 4',\n",
    "                   showarrow=True,\n",
    "                   arrowhead=2,\n",
    "                   arrowsize=1,\n",
    "                   arrowcolor='darkviolet',\n",
    "                   arrowwidth=2,\n",
    "                   bordercolor=\"darkviolet\",\n",
    "                   bgcolor=\"lightgray\")\n",
    "fig10.add_annotation(x='2017', y='3.75',\n",
    "                   text='Guatemala, average rating 3.75',\n",
    "                   showarrow=True,\n",
    "                   arrowhead=2,\n",
    "                   arrowsize=1,\n",
    "                   arrowcolor='darkviolet',\n",
    "                   arrowwidth=2,\n",
    "                   bordercolor=\"darkviolet\",\n",
    "                   bgcolor=\"lightgray\")\n",
    "fig10.add_annotation(x='2008', y='3.75',\n",
    "                   text='Congo, average rating 3.75',\n",
    "                   showarrow=True,\n",
    "                   arrowhead=2,\n",
    "                   arrowsize=1,\n",
    "                   arrowcolor='mediumvioletred',\n",
    "                   arrowwidth=2,\n",
    "                   bordercolor=\"mediumvioletred\",\n",
    "                   bgcolor=\"lightgray\")\n",
    "fig10.add_annotation(x='2014', y='3.75',\n",
    "                   text='Africa, average rating 3.75',\n",
    "                   showarrow=True,\n",
    "                   arrowhead=2,\n",
    "                   arrowsize=1,\n",
    "                   arrowcolor='mediumvioletred',\n",
    "                   arrowwidth=2,\n",
    "                   bordercolor=\"mediumvioletred\",\n",
    "                   bgcolor=\"lightgray\")\n",
    "fig10.add_annotation(x='2006', y='4',\n",
    "                   text='South America, average rating 4',\n",
    "                   showarrow=True,\n",
    "                   arrowhead=2,\n",
    "                   arrowsize=1,\n",
    "                   arrowcolor='mediumblue',\n",
    "                   arrowwidth=2,\n",
    "                   bordercolor=\"mediumblue\",\n",
    "                   bgcolor=\"lightgray\")\n",
    "fig10.add_annotation(x='2012', y='3.75',\n",
    "                   text='Tri. e Tobago, average rating 3.75',\n",
    "                   showarrow=True,\n",
    "                   arrowhead=2,\n",
    "                   arrowsize=1,\n",
    "                   arrowcolor='mediumblue',\n",
    "                   arrowwidth=2,\n",
    "                   bordercolor=\"mediumblue\",\n",
    "                   bgcolor=\"lightgray\")\n",
    "\n",
    "fig10.show('png')\n",
    "\n",
    "avg_cocoa_per_year = ds.groupby('Review_Date')['Cocoa_Percent'].mean().reset_index()\n",
    "unique_years_date = avg_cocoa_per_year['Review_Date'].unique()\n",
    "review_sorted = review_counts.sort_values(by='Review_Date')\n",
    "\n",
    "fig11 = make_subplots(rows=1, cols=2, specs=[[{}, {}]], shared_xaxes=True,\n",
    "                      shared_yaxes=True, vertical_spacing=0.001)\n",
    "\n",
    "fig11.append_trace(go.Bar(\n",
    "    x=avg_cocoa_per_year['Cocoa_Percent'],\n",
    "    y=avg_cocoa_per_year['Review_Date'],\n",
    "    marker=dict(\n",
    "        color='rgba(50, 171, 96, 0.6)',\n",
    "        line=dict(\n",
    "            color='rgba(50, 171, 96, 1.0)',\n",
    "            width=1),\n",
    "    ),\n",
    "    name='Variability of Cocoa Percentage per Year',\n",
    "    orientation='h'\n",
    "), 1, 1)\n",
    "\n",
    "fig11.append_trace(go.Scatter(\n",
    "    x=review_sorted['count'],\n",
    "    y=review_sorted['Review_Date'],\n",
    "    mode='lines+markers',\n",
    "    line_color='rgb(128, 0, 128)',\n",
    "    name='Number of reviews per year',\n",
    "), 1, 2)\n",
    "\n",
    "fig11.update_layout(xaxis_title=\"Average Percentage of Cocoa\", yaxis_title=\"Review Year\")\n",
    "fig11.update_layout(yaxis=dict(tickmode='array', tickvals=unique_years_date))\n",
    "fig11.update_layout(title_text=\"Average Cocoa Percentage and Number of Reviews per Year\",legend=dict(x=0, y=1.15, orientation=\"h\"))\n",
    "\n",
    "fig11.show('png')"
   ],
   "metadata": {
    "collapsed": false
   },
   "id": "91e8d9df243422d6",
   "execution_count": null
  }
 ],
 "metadata": {
  "kernelspec": {
   "display_name": "Python 3 (ipykernel)",
   "language": "python",
   "name": "python3"
  },
  "language_info": {
   "codemirror_mode": {
    "name": "ipython",
    "version": 3
   },
   "file_extension": ".py",
   "mimetype": "text/x-python",
   "name": "python",
   "nbconvert_exporter": "python",
   "pygments_lexer": "ipython3",
   "version": "3.9.7"
  }
 },
 "nbformat": 4,
 "nbformat_minor": 5
}
